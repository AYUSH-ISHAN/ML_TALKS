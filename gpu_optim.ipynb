{
 "cells": [
  {
   "cell_type": "markdown",
   "id": "0182193a-0156-43f7-96cb-0d6012e4575a",
   "metadata": {},
   "source": [
    "<B><h1><font color = \"green\" size = '20'>HANDOUT ASSIGNMENTS : </font></h1></B>"
   ]
  },
  {
   "cell_type": "markdown",
   "id": "d2d56c48-ff63-4839-b4fb-4370532f1515",
   "metadata": {},
   "source": [
    "<h1><B><font color = 'red'>GPU OPTIMISATION</font><B></h1>"
   ]
  },
  {
   "cell_type": "markdown",
   "id": "74d9e6a5-f38e-4377-8cbd-d3f998813c2f",
   "metadata": {},
   "source": [
    "# In the below question, we want you to make some necessary changes, so that this code not only gives the output but also logs the device placement informations. \n",
    "\n",
    "# You can run the cell to see whether you succeeded or not.\n",
    "\n"
   ]
  },
  {
   "cell_type": "code",
   "execution_count": 36,
   "id": "d092a609-f262-4c01-bca8-0476256ec5d5",
   "metadata": {},
   "outputs": [],
   "source": [
    "## we are using tensorflow version 1, so , the below two lines of code is to \n",
    "# depriciate it from version 2 to version 1\n",
    "import tensorflow.compat.v1 as tf\n",
    "tf.disable_v2_behavior()\n",
    "\n",
    "# Construct 2 op nodes (m1, m2) representing 2 matrix.\n",
    "\n",
    "m1 = tf.constant([[3, 5]])\n",
    "m2 = tf.constant([[2],[4]])\n",
    "\n",
    "product = tf.matmul(m1, m2)    # A matrix multiplication op node\n",
    "\n",
    "sess = tf.Session(config=tf.ConfigProto(\n",
    "    \n",
    "    log_device_placement=True))\n",
    "print(sess.run(product))\n",
    "\n",
    "sess.close()\n",
    "\n",
    "# MatMul: (MatMul): /job:localhost/replica:0/task:0/cpu:0\n",
    "# Const_1: (Const): /job:localhost/replica:0/task:0/cpu:0\n",
    "# Const: (Const): /job:localhost/replica:0/task:0/cpu:0"
   ]
  },
  {
   "cell_type": "markdown",
   "id": "52c86993-11a8-4fd9-8af7-fc97a79251f4",
   "metadata": {},
   "source": [
    "# In the next task, we are providing you a boiler plate code based on Model Parallelism. \n",
    "You have to complete the following task in your code:\n",
    "We have already initialised two matrix of dimension 2X2, a and b, with random values.\n",
    "Now you have to implement this three steps.\n",
    "\n",
    "\n",
    "1.   Use gpu with id '0' to perform matrix multiplication and append it in  the list 'c'.\n",
    "2.  Use gpu with id '1' to perform atrix multiplication of 'a' and 'b'. And append it in list 'c'.\n",
    "3.  Add all the matrix which you appended in list 'c' above. You have to use cpu with id '0' for this step.\n",
    "\n"
   ]
  },
  {
   "cell_type": "code",
   "execution_count": 35,
   "id": "ba44adb5-0007-4122-ba02-23fb927a5693",
   "metadata": {},
   "outputs": [],
   "source": [
    "import tensorflow.compat.v1 as tf\n",
    "tf.disable_v2_behavior()\n",
    "\n",
    "# list 'c' in which we will append our list\n",
    "c = []\n",
    "# random initialisation of two matrices 'a' and 'b'.\n",
    "a = tf.get_variable(f\"a\", [2, 2], initializer=tf.random_uniform_initializer(-1, 1))\n",
    "b = tf.get_variable(f\"b\", [2, 2], initializer=tf.random_uniform_initializer(-1, 1))\n",
    "\n",
    "##### START CODE HERE  #######\n",
    "\n",
    "'''\n",
    "HINTS :\n",
    "You have to initialise three devices as asked above (gpu-0, gpu-1, cpu-0).\n",
    "After initialisation perform the task in each f those initialisation.\n",
    "For matrix multiplication, look at above task.\n",
    "While for addition part - Find Yourself.\n",
    "'''\n",
    "\n",
    "#### YOU CODE ENDS HERE   ######\n",
    "\n",
    "sess = tf.Session(config=tf.ConfigProto(log_device_placement=True, allow_soft_placement=True))\n",
    "\n",
    "init = tf.global_variables_initializer()\n",
    "sess.run(init)\n",
    "\n",
    "print(sess.run())"
   ]
  },
  {
   "cell_type": "markdown",
   "id": "2fc303a6-1b21-46d8-bd13-7e56bd19121b",
   "metadata": {},
   "source": [
    "# Before moving to the next concept, We want you to have a quick revision of the difference between the Data Parallelism and Model Prarallelism. So, the below shown piece of code is based on Data Parallelism.\n",
    "# The code will show an error, when you run it. You have to find out the bug and fix it (as simple as that)."
   ]
  },
  {
   "cell_type": "code",
   "execution_count": null,
   "id": "982ae848-3ef5-4a06-b46a-9e2ce6d03d4f",
   "metadata": {},
   "outputs": [],
   "source": [
    "\n",
    "import tensorflow.compat.v1 as tf\n",
    "tf.disable_v2_behavior()\n",
    "\n",
    "c = []\n",
    "a = tf.get_variable(f\"a\", [2, 4, 3], initializer=tf.random_uniform_initializer(-1, 1))  # [2,2,3]\n",
    "b = tf.get_variable(f\"b\", [2, 3, 2], initializer=tf.random_uniform_initializer(-1, 1))\n",
    "\n",
    "# Multiple towers\n",
    "for i, d in enumerate(['/gpu:0', '/gpu:1']):   # using gpu-0 and gpu-1 to preform matrix multiplication.\n",
    "    with tf.device(d):\n",
    "        c.append(tf.matmul(a[i], b[i]))   # Tower i is responsible for batch data i.\n",
    "\n",
    "with tf.device('/cpu:0'):\n",
    "    sum = tf.add_n(c)\n",
    "\n",
    "sess = tf.Session(config=tf.ConfigProto(log_device_placement=True, allow_soft_placement=True))\n",
    "\n",
    "init = tf.global_variables_initializer()\n",
    "sess.run(init)\n",
    "\n",
    "print(sess.run())   #sum in the argument."
   ]
  },
  {
   "cell_type": "markdown",
   "id": "98483dbb-9c12-4c5c-8af1-e0449484f702",
   "metadata": {},
   "source": [
    "\n",
    "\n",
    "---\n",
    "\n",
    "# <font color = \"red\">PANDARALLEL</font>\n",
    "In this part we practice with the pandarallel library that allows parallel processing of DataFrames. \n",
    "\n",
    "#### Note: pandarallel can speed up computation using the physical cores present, hyperthreading does not increase speed. So it is recommended to run this in a multicore environment"
   ]
  },
  {
   "cell_type": "markdown",
   "id": "e147c359-188a-47ca-8ca9-ce4712075566",
   "metadata": {},
   "source": [
    "## Setup\n",
    "Run this code before attempting the excerise"
   ]
  },
  {
   "cell_type": "code",
   "execution_count": null,
   "id": "2513006e-92ad-4296-a2c6-dc706ce46051",
   "metadata": {},
   "outputs": [],
   "source": [
    "import numpy as np\n",
    "import pandas as pd\n",
    "\n",
    "size = int(5e6)\n",
    "\n",
    "# Synthetic dataset of random points\n",
    "df = pd.DataFrame({\n",
    "    'XCoordinate': np.random.randn(size),\n",
    "    'YCoordinate': np.random.randn(size),\n",
    "    'Color': np.random.choice(['Red','Blue','Green'],size)\n",
    "})\n",
    "# Preview of dataset\n",
    "df.head()"
   ]
  },
  {
   "cell_type": "markdown",
   "id": "8b57ba2e-d44e-451b-8668-7132c4a11c94",
   "metadata": {},
   "source": [
    "## Step 1\n",
    "For starters you have to first import the `pandarallel` class from the pandarallel module and run the `initialize()` method of the class. (You may have to pip install the `pandarallel` module)\n"
   ]
  },
  {
   "cell_type": "code",
   "execution_count": null,
   "id": "0baac3c1-f93e-406b-91e3-c4c528706247",
   "metadata": {},
   "outputs": [],
   "source": [
    "# YOUR CODE HERE\n",
    "from pandarallel import pandarallel # Example solution remove before assigning\n",
    "pandarallel.initialize()            # ''"
   ]
  },
  {
   "cell_type": "markdown",
   "id": "b40b72ce-52a4-4f84-8675-871719cde59f",
   "metadata": {},
   "source": [
    "## Step 2\n",
    "We have defined the function `l1_norm` here that takes a row in the `DataFrame` as argument and returns the L1 Norm of the point, i.e sum of absolute values of the coordinates. Run the cell."
   ]
  },
  {
   "cell_type": "code",
   "execution_count": null,
   "id": "b6ce0f37-b10a-44fc-bda2-1cfdd49740ba",
   "metadata": {},
   "outputs": [],
   "source": [
    "def l1_norm(row):\n",
    "  return row.XCoordinate + row.YCoordinate"
   ]
  },
  {
   "cell_type": "markdown",
   "id": "be387d1b-eae8-452c-b5e7-c297f4754c12",
   "metadata": {},
   "source": [
    "Next we will apply the function to each row by calling the `apply()` method on the `DataFrame`. This may take a minute or two. (If it takes too long you can change the `size` variable to a smaller number so that it runs for a minute or two)"
   ]
  },
  {
   "cell_type": "code",
   "execution_count": null,
   "id": "bf41df2e-a514-48ef-aadd-d1ab678da9e0",
   "metadata": {},
   "outputs": [],
   "source": [
    "%%time\n",
    "df.apply(l1_norm,axis=1)"
   ]
  },
  {
   "cell_type": "markdown",
   "id": "9f7c402b-ed7d-4b26-a644-0b62bbdc9b2d",
   "metadata": {},
   "source": [
    "Now your task is to process each row with the same function but now \n",
    "\n",
    "1.   List item\n",
    "2.   List item\n",
    "\n",
    "using parallel processing provided with the help of `pandarallel` . You can compre the time with the previous execution."
   ]
  },
  {
   "cell_type": "code",
   "execution_count": null,
   "id": "a43b6405-8ccc-4488-b699-c9f5f8a333d8",
   "metadata": {},
   "outputs": [],
   "source": [
    "%%time\n",
    "df.parallel_apply(l1_norm,axis=1)  # Remove before assigning"
   ]
  },
  {
   "cell_type": "markdown",
   "id": "09e0c442-ff58-4c6a-89e7-fdc95f3a48ba",
   "metadata": {},
   "source": [
    "Now hopefully if you had multiple cores you can appreciate the \n",
    "\n",
    "*   List item\n",
    "*   List item\n",
    "\n",
    "reduction in time offered by the parallel processing"
   ]
  },
  {
   "cell_type": "markdown",
   "id": "c16f74ba-54e8-4e88-a1c6-2c8e55bf0db5",
   "metadata": {},
   "source": [
    "## Step 3\n",
    "In this step what you have to is to use what you have learned and add a column `ORD_Color` to the dataset containing the ordinal encoding of the `'Color'` column, you must use parallel processing."
   ]
  },
  {
   "cell_type": "code",
   "execution_count": null,
   "id": "267005b7-4a11-43eb-86bc-54376fba4eeb",
   "metadata": {},
   "outputs": [],
   "source": [
    "# YOUR CODE HERE\n",
    "# Example solution remove before assigning\n",
    "ord_map = {}\n",
    "index = 0\n",
    "for i in df.Color.unique():\n",
    "    ord_map[i] = index\n",
    "    index +=1\n",
    "\n",
    "def encoder(row):\n",
    "    return ord_map[row.Color]\n",
    "\n",
    "df['ORD_Color'] = df.parallel_apply(encoder,axis=1)\n",
    "df.head()"
   ]
  },
  {
   "cell_type": "markdown",
   "id": "d5d70c6c-4f53-4d4e-8a27-c67f64ec2de9",
   "metadata": {},
   "source": [
    "<font color = \"Red\"><B><h1>Mult Threading and Multi Processing</h1></B></font>"
   ]
  },
  {
   "cell_type": "markdown",
   "id": "ffff5841-5da3-4034-9c5f-a3db3098e5b0",
   "metadata": {},
   "source": [
    "Before moving further, run the cell below to have an basic idea of Threading in Python.<br>\n",
    "Here, in this code we have made three separate threads - \n",
    "1. The main Thread\n",
    "2. t1 thread\n",
    "3. t2 thread\n",
    "\n",
    "t1 thread is responsible for printing 'Hello' while the t2 thread is responsible for 'Hi' and the main thread is the main thread, here in this case it is reponsible for printing 'Bye'."
   ]
  },
  {
   "cell_type": "code",
   "execution_count": null,
   "id": "40b453b8-9ab7-4363-89d6-2878203922f4",
   "metadata": {},
   "outputs": [],
   "source": [
    "## The first imports the sleep function from time module- it is used wait at the line for a given time.\n",
    "## The second line is to import the inbuilt 'Threading' module of Python.\n",
    "\n",
    "\n",
    "from time import sleep \n",
    "from threading import *\n",
    "\n",
    "class Hello(Thread):\n",
    "  def run(self):  \n",
    "    for i in range(5):\n",
    "      print(\"Hello\")\n",
    "      sleep(1)  # waits for 1 milli seconds at this line.\n",
    "\n",
    "class Hi(Thread):\n",
    "  def run(self):\n",
    "    for i in range(5):\n",
    "      print(\"Hi\")\n",
    "      sleep(1)\n",
    "\n",
    "t1 = Hello()\n",
    "t2 = Hi()\n",
    "\n",
    "t1.start()   # calls the run function of t1 class (Hello class). \n",
    "sleep(0.2)\n",
    "t2.start()   # calss the run function of the t2 class (Hi class).\n",
    "\n",
    "'''\n",
    "The below lines are helpful in executing the t1 thread and t2 thread first before the \n",
    "execution of Main Thread. To understand more clearly, just comment out the two lines \n",
    "and then run the cell to see the difference.\n",
    "'''\n",
    "t1.join()\n",
    "t2.join()\n",
    "\n",
    "print(\"Bye\")\n",
    "\n",
    "\n",
    "'''\n",
    "If you want to explre more: We have a small piece of code for your help:\n",
    "Just uncomment it and run it in a different cell.\n",
    "'''\n",
    "#: Hope you remember the Process function from the slides !\n",
    "\n",
    "# from multiprocessing import Process   \n",
    "\n",
    "# def f(name):\n",
    "#     print('hello', name)\n",
    "\n",
    "# if __name__ == '__main__':\n",
    "#     p = Process(target=f, args=('bob',))\n",
    "#     p.start()\n",
    "#     p.join()\n",
    "\n",
    "'''\n",
    "Bonus Task:\n",
    "With the help of multiprocessing module of python, try to initialise the 't1' and \n",
    "'t2' as Process() [ as did in commented code ], and so try to improve the functionality of this code.\n",
    "Watch this video to get more idea -\n",
    "'https://www.youtube.com/watch?v=fKl2JW_qrso'\n",
    "\n",
    "'''\n",
    "  "
   ]
  },
  {
   "cell_type": "markdown",
   "id": "11a0ac76-c71a-46bc-8068-c3169fc5c005",
   "metadata": {},
   "source": [
    "# In this task you have to literally do nothing !\n",
    "# You just have to twik the range of the iteration(the for loop) to figure out the relationship between the overall time taken to perform the task and the computation complexity of the task"
   ]
  },
  {
   "cell_type": "code",
   "execution_count": null,
   "id": "2fd28b30-a09b-47b1-a94d-c8585951c11d",
   "metadata": {},
   "outputs": [],
   "source": [
    "'''\n",
    "INSTRUCTIONS BEFORE YOU RUN THIS CELL:\n",
    "We highly recommend to put this code in your system itself.\n",
    "You can use either of .py file or .ipnyb file.\n",
    "And then run the below code to get an intution of what is happenening, here.\n",
    "'''\n",
    "\n",
    "import multiprocessing\n",
    "from multiprocessing import Pool\n",
    "import time\n",
    "\n",
    "def square_add(x):\n",
    "  sum = 0\n",
    "  for j in range(1000):\n",
    "    sum += j*j\n",
    "  return sum\n",
    "\n",
    "if __name__ == \"__main__\":\n",
    "      \n",
    "      toc = time.time()\n",
    "      p = Pool()\n",
    "      result = p.map(square_add, range(10000))\n",
    "      p.close()\n",
    "      p.join()\n",
    "      tic = time.time()\n",
    "      print(\"Pool time = \", tic-toc)\n",
    "\n",
    "      toc = time.time()\n",
    "      result = []\n",
    "      \n",
    "      for i in range(10000):\n",
    "          result.append(square_add(i))\n",
    "      tic = time.time()\n",
    "      print(\"Serial Processing time = \", tic-toc)\n"
   ]
  },
  {
   "cell_type": "markdown",
   "id": "a24539ad-adc6-4783-9544-10eb883f4922",
   "metadata": {},
   "source": [
    "# The Task below is designed to get your hands on the type of Shared Memory among processes as discussed in the slides.<br>\n",
    "Read the INSTRUCTIONS carefully to get an idea of your task."
   ]
  },
  {
   "cell_type": "code",
   "execution_count": null,
   "id": "0e71609d-b6fb-4449-9226-791af9a68a5f",
   "metadata": {},
   "outputs": [],
   "source": [
    "'''\n",
    "INSTRUCTIONS:\n",
    "1. FIRST of all COMMENT the four line of codes (as instructed).\n",
    "2. Once done that run the cell to see the output. Now, UNCOMMENT the said four lines.\n",
    "3. Now, run the cell and see the output.\n",
    "4. You might have noticed the difference in output-in one case ou have blank array while you got filled array in other case.\n",
    "5. The reason behind this was - those four lines just make the memory sharing possible between the two processes.\n",
    "6. One in he main process (under the if __name__ == \"__main__: command) and the other is in the 'getSquare' function.\n",
    "7. This is called 'queue pipe Multiprocessing'.\n",
    "\n",
    "YOUR TASK:\n",
    "1. Create a function named 'getNumSquare'. In this function you will take one argument 'num'\n",
    "2. This 'num' is a shared Memory of type 'value' and is to be declared as 'double'.\n",
    "3. You just have to assign a real number to the 'num' variable inside the function and get it printed \n",
    "  in the 'if statement' (if __name_ == \"__main__\")\n",
    "4. We have implemented multiprocessing.active_children() for you in the bottom of code\n",
    "5. You job is to just add 1 line of code to get the numbers of CPU in the system.(There is a inbulit function for this).\n",
    "\n",
    "BONUS TASK:\n",
    "1. Repeat the same task for a Queue type shared Memory.\n",
    "2. You have to use queue.put()- to put the numbers in a variable named 'queue' of type Queue.\n",
    "3. Also queue.get() - to fetch the data in the queue.\n",
    "''' \n",
    "\n",
    "import multiprocessing\n",
    "\n",
    "def getSquare(numbers, result):    \n",
    "  for index, num in enumerate(numbers):\n",
    "    result[index] = num*num\n",
    "\n",
    "if __name__ == \"__main__\":\n",
    "  numbers = [2,3,5]\n",
    "  result = []\n",
    "\n",
    "  ###  COMMENT FOUR LINES BELOW  ####\n",
    "  result = multiprocessing.Array('i', 3)\n",
    "  p = multiprocessing.Process(target=getSquare, args=(numbers, result))\n",
    "\n",
    "  p.start()\n",
    "  p.join()\n",
    "\n",
    "  #### THE FOUR LINES TO BE COMMENTED   #######\n",
    "\n",
    "  print(multiprocessing.active_children())\n",
    "  print(result[:])"
   ]
  },
  {
   "cell_type": "code",
   "execution_count": null,
   "id": "921f3040-14c3-4f1a-87c9-e0bd689be06c",
   "metadata": {},
   "outputs": [],
   "source": []
  }
 ],
 "metadata": {
  "kernelspec": {
   "display_name": "Python 3 (ipykernel)",
   "language": "python",
   "name": "python3"
  },
  "language_info": {
   "codemirror_mode": {
    "name": "ipython",
    "version": 3
   },
   "file_extension": ".py",
   "mimetype": "text/x-python",
   "name": "python",
   "nbconvert_exporter": "python",
   "pygments_lexer": "ipython3",
   "version": "3.7.0"
  }
 },
 "nbformat": 4,
 "nbformat_minor": 5
}
