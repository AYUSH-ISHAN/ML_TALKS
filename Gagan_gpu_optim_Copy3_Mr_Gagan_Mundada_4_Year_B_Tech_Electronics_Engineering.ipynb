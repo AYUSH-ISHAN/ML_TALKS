{
  "nbformat": 4,
  "nbformat_minor": 5,
  "metadata": {
    "kernelspec": {
      "display_name": "Python 3 (ipykernel)",
      "language": "python",
      "name": "python3"
    },
    "language_info": {
      "codemirror_mode": {
        "name": "ipython",
        "version": 3
      },
      "file_extension": ".py",
      "mimetype": "text/x-python",
      "name": "python",
      "nbconvert_exporter": "python",
      "pygments_lexer": "ipython3",
      "version": "3.7.0"
    },
    "colab": {
      "name": "Gagan_gpu_optim-Copy3 - Mr. Gagan Mundada 4-Year B.Tech. Electronics Engineering.ipynb",
      "provenance": []
    }
  },
  "cells": [
    {
      "cell_type": "markdown",
      "metadata": {
        "tags": [],
        "id": "0182193a-0156-43f7-96cb-0d6012e4575a"
      },
      "source": [
        "<B><h1><font color = \"green\" size = '20'>HANDOUT ASSIGNMENTS : </font></h1></B>"
      ],
      "id": "0182193a-0156-43f7-96cb-0d6012e4575a"
    },
    {
      "cell_type": "code",
      "metadata": {
        "id": "5d96150c-19aa-4207-a097-56ab1dc2def0"
      },
      "source": [
        "# YOU HAVE TO RUN THIS CODE EVERYTIME YOU RESTART THE KERNEL\n",
        "from checker.assignment1 import Solution\n",
        "#Enter your name in quotes with underscore for space below\n",
        "sol = Solution('Gagan')"
      ],
      "id": "5d96150c-19aa-4207-a097-56ab1dc2def0",
      "execution_count": null,
      "outputs": []
    },
    {
      "cell_type": "markdown",
      "metadata": {
        "id": "d2d56c48-ff63-4839-b4fb-4370532f1515"
      },
      "source": [
        "<h1><B><font color = 'red'>GPU OPTIMISATION</font><B></h1>"
      ],
      "id": "d2d56c48-ff63-4839-b4fb-4370532f1515"
    },
    {
      "cell_type": "markdown",
      "metadata": {
        "id": "74d9e6a5-f38e-4377-8cbd-d3f998813c2f"
      },
      "source": [
        "# In the below question, we want you to make some changes, so that m1, m2, product are all on the GPU \n",
        "\n",
        "# You can run the cell containing checker code to see whether you succeeded or not.\n",
        "Note : You may have to restart the kernel everytime you change the GPU, the kernel restart option is available under the kernel menu in top left.\n"
      ],
      "id": "74d9e6a5-f38e-4377-8cbd-d3f998813c2f"
    },
    {
      "cell_type": "code",
      "metadata": {
        "id": "d092a609-f262-4c01-bca8-0476256ec5d5",
        "outputId": "801d8ec4-4ed5-4d28-a096-80793c64b7c0"
      },
      "source": [
        "\n",
        "import tensorflow as tf\n",
        "print(tf.__version__)\n",
        "\n",
        "\n",
        "## CHANGE BELOW CODE\n",
        "\n",
        "with tf.device('/gpu:0'):\n",
        "    m1 = tf.constant([[3., 5.]])\n",
        "    m2 = tf.constant([[2.],[4.]])\n",
        "\n",
        "    product = tf.matmul(m1, m2)    # A matrix multiplication op node\n",
        "\n",
        "\n",
        "## CHANGE ABOVE CODE\n",
        "sess = tf.Session()\n",
        "\n",
        "print(product.device)\n",
        "print(m1.device)\n",
        "print(m2.device)\n",
        "sess.close()"
      ],
      "id": "d092a609-f262-4c01-bca8-0476256ec5d5",
      "execution_count": null,
      "outputs": [
        {
          "name": "stdout",
          "output_type": "stream",
          "text": [
            "1.15.0\n",
            "WARNING:tensorflow:From /tmp/ipykernel_12545/1045489326.py:15: The name tf.Session is deprecated. Please use tf.compat.v1.Session instead.\n",
            "\n"
          ]
        },
        {
          "name": "stderr",
          "output_type": "stream",
          "text": [
            "2021-08-20 09:59:17.444834: I tensorflow/stream_executor/platform/default/dso_loader.cc:44] Successfully opened dynamic library libcuda.so.1\n",
            "2021-08-20 09:59:17.475789: I tensorflow/core/common_runtime/gpu/gpu_device.cc:1618] Found device 0 with properties: \n",
            "name: NVIDIA GeForce GTX 1080 Ti major: 6 minor: 1 memoryClockRate(GHz): 1.582\n",
            "pciBusID: 0000:04:00.0\n",
            "2021-08-20 09:59:17.477402: I tensorflow/core/common_runtime/gpu/gpu_device.cc:1618] Found device 1 with properties: \n",
            "name: NVIDIA GeForce GTX 1080 Ti major: 6 minor: 1 memoryClockRate(GHz): 1.582\n",
            "pciBusID: 0000:05:00.0\n",
            "2021-08-20 09:59:17.478940: I tensorflow/core/common_runtime/gpu/gpu_device.cc:1618] Found device 2 with properties: \n",
            "name: NVIDIA GeForce GTX 1080 Ti major: 6 minor: 1 memoryClockRate(GHz): 1.582\n",
            "pciBusID: 0000:08:00.0\n",
            "2021-08-20 09:59:17.480415: I tensorflow/core/common_runtime/gpu/gpu_device.cc:1618] Found device 3 with properties: \n",
            "name: NVIDIA GeForce GTX 1080 Ti major: 6 minor: 1 memoryClockRate(GHz): 1.582\n",
            "pciBusID: 0000:09:00.0\n",
            "2021-08-20 09:59:17.482173: I tensorflow/core/common_runtime/gpu/gpu_device.cc:1618] Found device 4 with properties: \n",
            "name: NVIDIA GeForce GTX 1080 Ti major: 6 minor: 1 memoryClockRate(GHz): 1.582\n",
            "pciBusID: 0000:89:00.0\n",
            "2021-08-20 09:59:17.482853: I tensorflow/stream_executor/platform/default/dso_loader.cc:44] Successfully opened dynamic library libcudart.so.10.0\n",
            "2021-08-20 09:59:17.485491: I tensorflow/stream_executor/platform/default/dso_loader.cc:44] Successfully opened dynamic library libcublas.so.10.0\n",
            "2021-08-20 09:59:17.487893: I tensorflow/stream_executor/platform/default/dso_loader.cc:44] Successfully opened dynamic library libcufft.so.10.0\n",
            "2021-08-20 09:59:17.488515: I tensorflow/stream_executor/platform/default/dso_loader.cc:44] Successfully opened dynamic library libcurand.so.10.0\n",
            "2021-08-20 09:59:17.491533: I tensorflow/stream_executor/platform/default/dso_loader.cc:44] Successfully opened dynamic library libcusolver.so.10.0\n",
            "2021-08-20 09:59:17.493871: I tensorflow/stream_executor/platform/default/dso_loader.cc:44] Successfully opened dynamic library libcusparse.so.10.0\n",
            "2021-08-20 09:59:17.500448: I tensorflow/stream_executor/platform/default/dso_loader.cc:44] Successfully opened dynamic library libcudnn.so.7\n",
            "2021-08-20 09:59:17.516009: I tensorflow/core/common_runtime/gpu/gpu_device.cc:1746] Adding visible gpu devices: 0, 1, 2, 3, 4\n",
            "2021-08-20 09:59:17.517091: I tensorflow/core/platform/cpu_feature_guard.cc:142] Your CPU supports instructions that this TensorFlow binary was not compiled to use: SSE4.1 SSE4.2 AVX AVX2 FMA\n",
            "2021-08-20 09:59:17.529326: I tensorflow/core/platform/profile_utils/cpu_utils.cc:94] CPU Frequency: 1700085000 Hz\n",
            "2021-08-20 09:59:17.531473: I tensorflow/compiler/xla/service/service.cc:168] XLA service 0x55861c3378f0 initialized for platform Host (this does not guarantee that XLA will be used). Devices:\n",
            "2021-08-20 09:59:17.531506: I tensorflow/compiler/xla/service/service.cc:176]   StreamExecutor device (0): Host, Default Version\n"
          ]
        },
        {
          "name": "stdout",
          "output_type": "stream",
          "text": [
            "/device:GPU:0\n",
            "/device:GPU:0\n",
            "/device:GPU:0\n"
          ]
        },
        {
          "name": "stderr",
          "output_type": "stream",
          "text": [
            "2021-08-20 09:59:18.327983: I tensorflow/core/common_runtime/gpu/gpu_device.cc:1618] Found device 0 with properties: \n",
            "name: NVIDIA GeForce GTX 1080 Ti major: 6 minor: 1 memoryClockRate(GHz): 1.582\n",
            "pciBusID: 0000:04:00.0\n",
            "2021-08-20 09:59:18.329861: I tensorflow/core/common_runtime/gpu/gpu_device.cc:1618] Found device 1 with properties: \n",
            "name: NVIDIA GeForce GTX 1080 Ti major: 6 minor: 1 memoryClockRate(GHz): 1.582\n",
            "pciBusID: 0000:05:00.0\n",
            "2021-08-20 09:59:18.331642: I tensorflow/core/common_runtime/gpu/gpu_device.cc:1618] Found device 2 with properties: \n",
            "name: NVIDIA GeForce GTX 1080 Ti major: 6 minor: 1 memoryClockRate(GHz): 1.582\n",
            "pciBusID: 0000:08:00.0\n",
            "2021-08-20 09:59:18.333489: I tensorflow/core/common_runtime/gpu/gpu_device.cc:1618] Found device 3 with properties: \n",
            "name: NVIDIA GeForce GTX 1080 Ti major: 6 minor: 1 memoryClockRate(GHz): 1.582\n",
            "pciBusID: 0000:09:00.0\n",
            "2021-08-20 09:59:18.335255: I tensorflow/core/common_runtime/gpu/gpu_device.cc:1618] Found device 4 with properties: \n",
            "name: NVIDIA GeForce GTX 1080 Ti major: 6 minor: 1 memoryClockRate(GHz): 1.582\n",
            "pciBusID: 0000:89:00.0\n",
            "2021-08-20 09:59:18.335343: I tensorflow/stream_executor/platform/default/dso_loader.cc:44] Successfully opened dynamic library libcudart.so.10.0\n",
            "2021-08-20 09:59:18.335376: I tensorflow/stream_executor/platform/default/dso_loader.cc:44] Successfully opened dynamic library libcublas.so.10.0\n",
            "2021-08-20 09:59:18.335404: I tensorflow/stream_executor/platform/default/dso_loader.cc:44] Successfully opened dynamic library libcufft.so.10.0\n",
            "2021-08-20 09:59:18.335447: I tensorflow/stream_executor/platform/default/dso_loader.cc:44] Successfully opened dynamic library libcurand.so.10.0\n",
            "2021-08-20 09:59:18.335476: I tensorflow/stream_executor/platform/default/dso_loader.cc:44] Successfully opened dynamic library libcusolver.so.10.0\n",
            "2021-08-20 09:59:18.335502: I tensorflow/stream_executor/platform/default/dso_loader.cc:44] Successfully opened dynamic library libcusparse.so.10.0\n",
            "2021-08-20 09:59:18.335529: I tensorflow/stream_executor/platform/default/dso_loader.cc:44] Successfully opened dynamic library libcudnn.so.7\n",
            "2021-08-20 09:59:18.353295: I tensorflow/core/common_runtime/gpu/gpu_device.cc:1746] Adding visible gpu devices: 0, 1, 2, 3, 4\n",
            "2021-08-20 09:59:18.353372: I tensorflow/stream_executor/platform/default/dso_loader.cc:44] Successfully opened dynamic library libcudart.so.10.0\n",
            "2021-08-20 09:59:18.364087: I tensorflow/core/common_runtime/gpu/gpu_device.cc:1159] Device interconnect StreamExecutor with strength 1 edge matrix:\n",
            "2021-08-20 09:59:18.364122: I tensorflow/core/common_runtime/gpu/gpu_device.cc:1165]      0 1 2 3 4 \n",
            "2021-08-20 09:59:18.364141: I tensorflow/core/common_runtime/gpu/gpu_device.cc:1178] 0:   N Y Y Y N \n",
            "2021-08-20 09:59:18.364150: I tensorflow/core/common_runtime/gpu/gpu_device.cc:1178] 1:   Y N Y Y N \n",
            "2021-08-20 09:59:18.364158: I tensorflow/core/common_runtime/gpu/gpu_device.cc:1178] 2:   Y Y N Y N \n",
            "2021-08-20 09:59:18.364167: I tensorflow/core/common_runtime/gpu/gpu_device.cc:1178] 3:   Y Y Y N N \n",
            "2021-08-20 09:59:18.364175: I tensorflow/core/common_runtime/gpu/gpu_device.cc:1178] 4:   N N N N N \n",
            "2021-08-20 09:59:18.374639: I tensorflow/core/common_runtime/gpu/gpu_device.cc:1304] Created TensorFlow device (/job:localhost/replica:0/task:0/device:GPU:0 with 10097 MB memory) -> physical GPU (device: 0, name: NVIDIA GeForce GTX 1080 Ti, pci bus id: 0000:04:00.0, compute capability: 6.1)\n",
            "2021-08-20 09:59:18.378436: I tensorflow/core/common_runtime/gpu/gpu_device.cc:1304] Created TensorFlow device (/job:localhost/replica:0/task:0/device:GPU:1 with 10229 MB memory) -> physical GPU (device: 1, name: NVIDIA GeForce GTX 1080 Ti, pci bus id: 0000:05:00.0, compute capability: 6.1)\n",
            "2021-08-20 09:59:18.383770: I tensorflow/core/common_runtime/gpu/gpu_device.cc:1304] Created TensorFlow device (/job:localhost/replica:0/task:0/device:GPU:2 with 10229 MB memory) -> physical GPU (device: 2, name: NVIDIA GeForce GTX 1080 Ti, pci bus id: 0000:08:00.0, compute capability: 6.1)\n",
            "2021-08-20 09:59:18.387686: I tensorflow/core/common_runtime/gpu/gpu_device.cc:1304] Created TensorFlow device (/job:localhost/replica:0/task:0/device:GPU:3 with 10081 MB memory) -> physical GPU (device: 3, name: NVIDIA GeForce GTX 1080 Ti, pci bus id: 0000:09:00.0, compute capability: 6.1)\n",
            "2021-08-20 09:59:18.391489: I tensorflow/core/common_runtime/gpu/gpu_device.cc:1304] Created TensorFlow device (/job:localhost/replica:0/task:0/device:GPU:4 with 10229 MB memory) -> physical GPU (device: 4, name: NVIDIA GeForce GTX 1080 Ti, pci bus id: 0000:89:00.0, compute capability: 6.1)\n",
            "2021-08-20 09:59:18.396463: I tensorflow/compiler/xla/service/service.cc:168] XLA service 0x55861de37b70 initialized for platform CUDA (this does not guarantee that XLA will be used). Devices:\n",
            "2021-08-20 09:59:18.396493: I tensorflow/compiler/xla/service/service.cc:176]   StreamExecutor device (0): NVIDIA GeForce GTX 1080 Ti, Compute Capability 6.1\n",
            "2021-08-20 09:59:18.396503: I tensorflow/compiler/xla/service/service.cc:176]   StreamExecutor device (1): NVIDIA GeForce GTX 1080 Ti, Compute Capability 6.1\n",
            "2021-08-20 09:59:18.396511: I tensorflow/compiler/xla/service/service.cc:176]   StreamExecutor device (2): NVIDIA GeForce GTX 1080 Ti, Compute Capability 6.1\n",
            "2021-08-20 09:59:18.396519: I tensorflow/compiler/xla/service/service.cc:176]   StreamExecutor device (3): NVIDIA GeForce GTX 1080 Ti, Compute Capability 6.1\n",
            "2021-08-20 09:59:18.396529: I tensorflow/compiler/xla/service/service.cc:176]   StreamExecutor device (4): NVIDIA GeForce GTX 1080 Ti, Compute Capability 6.1\n"
          ]
        }
      ]
    },
    {
      "cell_type": "code",
      "metadata": {
        "id": "1852fdae-15f2-4ddb-b59e-16028fbd2d6f",
        "outputId": "978ac1cb-6b56-4cc5-8c27-50bf55364b87"
      },
      "source": [
        "sol.q1_check(m1,m2,product) #RUN THIS CELL WITHOUT CHANGE TO SEE YOUR SCORE"
      ],
      "id": "1852fdae-15f2-4ddb-b59e-16028fbd2d6f",
      "execution_count": null,
      "outputs": [
        {
          "name": "stdout",
          "output_type": "stream",
          "text": [
            "Correct!\n",
            "Your score is now 2\n"
          ]
        }
      ]
    },
    {
      "cell_type": "markdown",
      "metadata": {
        "id": "52c86993-11a8-4fd9-8af7-fc97a79251f4"
      },
      "source": [
        "# In the next task, we are providing you a boiler plate code based on Model Parallelism. \n",
        "You have to complete the following task in your code:\n",
        "We have already initialised two matrix of dimension 2X2, a and b, with random values.\n",
        "Now you have to implement this three steps.\n",
        "\n",
        "\n",
        "1.   Use gpu with id '0' to perform matrix multiplication and append it in  the list 'c'.\n",
        "2.  Use gpu with id '1' to perform atrix multiplication of 'a' and 'b'. And append it in list 'c'.\n",
        "3.  Add all the matrix which you appended in list 'c' above and store result in sum. You have to use cpu with id '0' for this step.\n",
        "\n",
        "In case the gpus are not available, you can try in other gpus (id 0-4), just make sure both gpus are not the same.\n",
        "\n",
        "### Reminder: you may have to restart kernel everytime you change gpus/cpus in code\n"
      ],
      "id": "52c86993-11a8-4fd9-8af7-fc97a79251f4"
    },
    {
      "cell_type": "code",
      "metadata": {
        "id": "ba44adb5-0007-4122-ba02-23fb927a5693",
        "outputId": "4c0b58cc-5165-48c4-88e2-b43a52884cf4"
      },
      "source": [
        "import tensorflow as tf\n",
        "\n",
        "\n",
        "# list 'c' in which we will append our list\n",
        "c = []\n",
        "# random initialisation of two matrices 'a' and 'b'.\n",
        "\n",
        "a = tf.get_variable(f\"a\", [2, 2], initializer=tf.random_uniform_initializer(-1, 1))\n",
        "b = tf.get_variable(f\"b\", [2, 2], initializer=tf.random_uniform_initializer(-1, 1))\n",
        "\n",
        "##### START CODE HERE  #######\n",
        "\n",
        "with tf.device('/gpu:0'):\n",
        "    m1 = tf.matmul(a,b)\n",
        "    c.append(m1)\n",
        "with tf.device('/gpu:1'):\n",
        "    m2 = tf.matmul(a,b)\n",
        "    c.append(m2)\n",
        "with tf.device('/cpu:0'):\n",
        "    sum = tf.math.add(tf.matmul(a,b),tf.matmul(a,b))\n",
        "    \n",
        "'''\n",
        "HINTS :\n",
        "You have to initialise three devices as asked above (gpu-0, gpu-1, cpu-0).\n",
        "After initialisation perform the task in each f those initialisation.\n",
        "For matrix multiplication, look at above task.\n",
        "While for addition part - Find Yourself.\n",
        "'''\n",
        "\n",
        "    \n",
        "#### YOU CODE ENDS HERE   ######\n",
        "\n",
        "\n",
        "\n",
        "sess = tf.Session()\n",
        "\n",
        "init = tf.global_variables_initializer()\n",
        "sess.run(init)\n",
        "\n",
        "print(sess.run(sum))\n",
        "print(c[0].device)\n",
        "print(c[1].device)\n"
      ],
      "id": "ba44adb5-0007-4122-ba02-23fb927a5693",
      "execution_count": null,
      "outputs": [
        {
          "name": "stdout",
          "output_type": "stream",
          "text": [
            "WARNING:tensorflow:From /tmp/ipykernel_12545/3013387629.py:8: The name tf.get_variable is deprecated. Please use tf.compat.v1.get_variable instead.\n",
            "\n",
            "WARNING:tensorflow:From /tmp/ipykernel_12545/3013387629.py:37: The name tf.global_variables_initializer is deprecated. Please use tf.compat.v1.global_variables_initializer instead.\n",
            "\n"
          ]
        },
        {
          "name": "stderr",
          "output_type": "stream",
          "text": [
            "2021-08-20 09:59:44.392005: I tensorflow/core/common_runtime/gpu/gpu_device.cc:1618] Found device 0 with properties: \n",
            "name: NVIDIA GeForce GTX 1080 Ti major: 6 minor: 1 memoryClockRate(GHz): 1.582\n",
            "pciBusID: 0000:04:00.0\n",
            "2021-08-20 09:59:44.393950: I tensorflow/core/common_runtime/gpu/gpu_device.cc:1618] Found device 1 with properties: \n",
            "name: NVIDIA GeForce GTX 1080 Ti major: 6 minor: 1 memoryClockRate(GHz): 1.582\n",
            "pciBusID: 0000:05:00.0\n",
            "2021-08-20 09:59:44.395900: I tensorflow/core/common_runtime/gpu/gpu_device.cc:1618] Found device 2 with properties: \n",
            "name: NVIDIA GeForce GTX 1080 Ti major: 6 minor: 1 memoryClockRate(GHz): 1.582\n",
            "pciBusID: 0000:08:00.0\n",
            "2021-08-20 09:59:44.397469: I tensorflow/core/common_runtime/gpu/gpu_device.cc:1618] Found device 3 with properties: \n",
            "name: NVIDIA GeForce GTX 1080 Ti major: 6 minor: 1 memoryClockRate(GHz): 1.582\n",
            "pciBusID: 0000:09:00.0\n",
            "2021-08-20 09:59:44.399326: I tensorflow/core/common_runtime/gpu/gpu_device.cc:1618] Found device 4 with properties: \n",
            "name: NVIDIA GeForce GTX 1080 Ti major: 6 minor: 1 memoryClockRate(GHz): 1.582\n",
            "pciBusID: 0000:89:00.0\n",
            "2021-08-20 09:59:44.399405: I tensorflow/stream_executor/platform/default/dso_loader.cc:44] Successfully opened dynamic library libcudart.so.10.0\n",
            "2021-08-20 09:59:44.399447: I tensorflow/stream_executor/platform/default/dso_loader.cc:44] Successfully opened dynamic library libcublas.so.10.0\n",
            "2021-08-20 09:59:44.399473: I tensorflow/stream_executor/platform/default/dso_loader.cc:44] Successfully opened dynamic library libcufft.so.10.0\n",
            "2021-08-20 09:59:44.399497: I tensorflow/stream_executor/platform/default/dso_loader.cc:44] Successfully opened dynamic library libcurand.so.10.0\n",
            "2021-08-20 09:59:44.399520: I tensorflow/stream_executor/platform/default/dso_loader.cc:44] Successfully opened dynamic library libcusolver.so.10.0\n",
            "2021-08-20 09:59:44.399542: I tensorflow/stream_executor/platform/default/dso_loader.cc:44] Successfully opened dynamic library libcusparse.so.10.0\n",
            "2021-08-20 09:59:44.399564: I tensorflow/stream_executor/platform/default/dso_loader.cc:44] Successfully opened dynamic library libcudnn.so.7\n",
            "2021-08-20 09:59:44.416132: I tensorflow/core/common_runtime/gpu/gpu_device.cc:1746] Adding visible gpu devices: 0, 1, 2, 3, 4\n",
            "2021-08-20 09:59:44.416233: I tensorflow/core/common_runtime/gpu/gpu_device.cc:1159] Device interconnect StreamExecutor with strength 1 edge matrix:\n",
            "2021-08-20 09:59:44.416249: I tensorflow/core/common_runtime/gpu/gpu_device.cc:1165]      0 1 2 3 4 \n",
            "2021-08-20 09:59:44.416258: I tensorflow/core/common_runtime/gpu/gpu_device.cc:1178] 0:   N Y Y Y N \n",
            "2021-08-20 09:59:44.416267: I tensorflow/core/common_runtime/gpu/gpu_device.cc:1178] 1:   Y N Y Y N \n",
            "2021-08-20 09:59:44.416274: I tensorflow/core/common_runtime/gpu/gpu_device.cc:1178] 2:   Y Y N Y N \n",
            "2021-08-20 09:59:44.416282: I tensorflow/core/common_runtime/gpu/gpu_device.cc:1178] 3:   Y Y Y N N \n",
            "2021-08-20 09:59:44.416289: I tensorflow/core/common_runtime/gpu/gpu_device.cc:1178] 4:   N N N N N \n",
            "2021-08-20 09:59:44.426543: I tensorflow/core/common_runtime/gpu/gpu_device.cc:1304] Created TensorFlow device (/job:localhost/replica:0/task:0/device:GPU:0 with 10097 MB memory) -> physical GPU (device: 0, name: NVIDIA GeForce GTX 1080 Ti, pci bus id: 0000:04:00.0, compute capability: 6.1)\n",
            "2021-08-20 09:59:44.428107: I tensorflow/core/common_runtime/gpu/gpu_device.cc:1304] Created TensorFlow device (/job:localhost/replica:0/task:0/device:GPU:1 with 10229 MB memory) -> physical GPU (device: 1, name: NVIDIA GeForce GTX 1080 Ti, pci bus id: 0000:05:00.0, compute capability: 6.1)\n",
            "2021-08-20 09:59:44.429837: I tensorflow/core/common_runtime/gpu/gpu_device.cc:1304] Created TensorFlow device (/job:localhost/replica:0/task:0/device:GPU:2 with 10229 MB memory) -> physical GPU (device: 2, name: NVIDIA GeForce GTX 1080 Ti, pci bus id: 0000:08:00.0, compute capability: 6.1)\n",
            "2021-08-20 09:59:44.431299: I tensorflow/core/common_runtime/gpu/gpu_device.cc:1304] Created TensorFlow device (/job:localhost/replica:0/task:0/device:GPU:3 with 10081 MB memory) -> physical GPU (device: 3, name: NVIDIA GeForce GTX 1080 Ti, pci bus id: 0000:09:00.0, compute capability: 6.1)\n",
            "2021-08-20 09:59:44.433075: I tensorflow/core/common_runtime/gpu/gpu_device.cc:1304] Created TensorFlow device (/job:localhost/replica:0/task:0/device:GPU:4 with 10229 MB memory) -> physical GPU (device: 4, name: NVIDIA GeForce GTX 1080 Ti, pci bus id: 0000:89:00.0, compute capability: 6.1)\n"
          ]
        },
        {
          "name": "stdout",
          "output_type": "stream",
          "text": [
            "[[ 0.2700293  -0.09485301]\n",
            " [-1.1174718   0.88415325]]\n",
            "/device:GPU:0\n",
            "/device:GPU:1\n"
          ]
        }
      ]
    },
    {
      "cell_type": "code",
      "metadata": {
        "id": "8424057e-ffb9-4acf-b058-0d7f318e0857",
        "outputId": "734c0784-721e-4624-a276-b3ddf036f04d"
      },
      "source": [
        "sol.q2_check(c)  #RUn THIS CELL TO SEE IF YOU ARE CORRECT"
      ],
      "id": "8424057e-ffb9-4acf-b058-0d7f318e0857",
      "execution_count": null,
      "outputs": [
        {
          "name": "stdout",
          "output_type": "stream",
          "text": [
            "Correct!\n",
            "Your score is now 3\n"
          ]
        }
      ]
    },
    {
      "cell_type": "markdown",
      "metadata": {
        "id": "2fc303a6-1b21-46d8-bd13-7e56bd19121b"
      },
      "source": [
        "# Now in this task you will be dealing with Data Parallelism\n",
        "We have declared two tensors a and b, you just have to complete the code so that the matrix multiplication is done in two GPUs with different set of data."
      ],
      "id": "2fc303a6-1b21-46d8-bd13-7e56bd19121b"
    },
    {
      "cell_type": "code",
      "metadata": {
        "id": "982ae848-3ef5-4a06-b46a-9e2ce6d03d4f",
        "outputId": "73c38af3-dafc-46f2-c602-b2359907e640"
      },
      "source": [
        "\n",
        "import tensorflow as tf\n",
        "\n",
        "\n",
        "\n",
        "c = []\n",
        "a = tf.get_variable(f\"a\", [2, 4, 3], initializer=tf.random_uniform_initializer(-1, 1))  # [2,2,3]\n",
        "b = tf.get_variable(f\"b\", [2, 3, 2], initializer=tf.random_uniform_initializer(-1, 1))\n",
        "\n",
        "# Multiple towers\n",
        "for i, d in enumerate(['/gpu:0','/gpu:1']):   # Complete Code.\n",
        "    with tf.device(d):                        #Complete Code\n",
        "        c.append(tf.matmul(a[i], b[i]))   # Tower i is responsible for batch data i.\n",
        "\n",
        "with tf.device('/cpu:0'):\n",
        "    sum = tf.add_n(c)\n",
        "\n",
        "sess = tf.Session()\n",
        "\n",
        "init = tf.global_variables_initializer()\n",
        "sess.run(init)\n",
        "\n",
        "print(sess.run(sum))   \n",
        "print(c[0].device)\n",
        "print(c[1].device)\n",
        "    "
      ],
      "id": "982ae848-3ef5-4a06-b46a-9e2ce6d03d4f",
      "execution_count": null,
      "outputs": [
        {
          "ename": "ValueError",
          "evalue": "Variable a already exists, disallowed. Did you mean to set reuse=True or reuse=tf.AUTO_REUSE in VarScope? Originally defined at:\n\n  File \"/home/ug2019/eee/19085089/.conda/envs/multi/lib/python3.7/site-packages/tensorflow_core/python/framework/ops.py\", line 1748, in __init__\n    self._traceback = tf_stack.extract_stack()\n  File \"/home/ug2019/eee/19085089/.conda/envs/multi/lib/python3.7/site-packages/tensorflow_core/python/framework/ops.py\", line 3426, in _create_op_internal\n    op_def=op_def)\n  File \"/home/ug2019/eee/19085089/.conda/envs/multi/lib/python3.7/site-packages/tensorflow_core/python/framework/ops.py\", line 3357, in create_op\n    attrs, op_def, compute_device)\n  File \"/home/ug2019/eee/19085089/.conda/envs/multi/lib/python3.7/site-packages/tensorflow_core/python/util/deprecation.py\", line 507, in new_func\n    return func(*args, **kwargs)\n  File \"/home/ug2019/eee/19085089/.conda/envs/multi/lib/python3.7/site-packages/tensorflow_core/python/framework/op_def_library.py\", line 794, in _apply_op_helper\n    op_def=op_def)\n",
          "output_type": "error",
          "traceback": [
            "\u001b[0;31m---------------------------------------------------------------------------\u001b[0m",
            "\u001b[0;31mValueError\u001b[0m                                Traceback (most recent call last)",
            "\u001b[0;32m/tmp/ipykernel_12545/3944838785.py\u001b[0m in \u001b[0;36m<module>\u001b[0;34m\u001b[0m\n\u001b[1;32m      4\u001b[0m \u001b[0;34m\u001b[0m\u001b[0m\n\u001b[1;32m      5\u001b[0m \u001b[0mc\u001b[0m \u001b[0;34m=\u001b[0m \u001b[0;34m[\u001b[0m\u001b[0;34m]\u001b[0m\u001b[0;34m\u001b[0m\u001b[0m\n\u001b[0;32m----> 6\u001b[0;31m \u001b[0ma\u001b[0m \u001b[0;34m=\u001b[0m \u001b[0mtf\u001b[0m\u001b[0;34m.\u001b[0m\u001b[0mget_variable\u001b[0m\u001b[0;34m(\u001b[0m\u001b[0;34mf\"a\"\u001b[0m\u001b[0;34m,\u001b[0m \u001b[0;34m[\u001b[0m\u001b[0;36m2\u001b[0m\u001b[0;34m,\u001b[0m \u001b[0;36m4\u001b[0m\u001b[0;34m,\u001b[0m \u001b[0;36m3\u001b[0m\u001b[0;34m]\u001b[0m\u001b[0;34m,\u001b[0m \u001b[0minitializer\u001b[0m\u001b[0;34m=\u001b[0m\u001b[0mtf\u001b[0m\u001b[0;34m.\u001b[0m\u001b[0mrandom_uniform_initializer\u001b[0m\u001b[0;34m(\u001b[0m\u001b[0;34m-\u001b[0m\u001b[0;36m1\u001b[0m\u001b[0;34m,\u001b[0m \u001b[0;36m1\u001b[0m\u001b[0;34m)\u001b[0m\u001b[0;34m)\u001b[0m  \u001b[0;31m# [2,2,3]\u001b[0m\u001b[0;34m\u001b[0m\u001b[0m\n\u001b[0m\u001b[1;32m      7\u001b[0m \u001b[0mb\u001b[0m \u001b[0;34m=\u001b[0m \u001b[0mtf\u001b[0m\u001b[0;34m.\u001b[0m\u001b[0mget_variable\u001b[0m\u001b[0;34m(\u001b[0m\u001b[0;34mf\"b\"\u001b[0m\u001b[0;34m,\u001b[0m \u001b[0;34m[\u001b[0m\u001b[0;36m2\u001b[0m\u001b[0;34m,\u001b[0m \u001b[0;36m3\u001b[0m\u001b[0;34m,\u001b[0m \u001b[0;36m2\u001b[0m\u001b[0;34m]\u001b[0m\u001b[0;34m,\u001b[0m \u001b[0minitializer\u001b[0m\u001b[0;34m=\u001b[0m\u001b[0mtf\u001b[0m\u001b[0;34m.\u001b[0m\u001b[0mrandom_uniform_initializer\u001b[0m\u001b[0;34m(\u001b[0m\u001b[0;34m-\u001b[0m\u001b[0;36m1\u001b[0m\u001b[0;34m,\u001b[0m \u001b[0;36m1\u001b[0m\u001b[0;34m)\u001b[0m\u001b[0;34m)\u001b[0m\u001b[0;34m\u001b[0m\u001b[0m\n\u001b[1;32m      8\u001b[0m \u001b[0;34m\u001b[0m\u001b[0m\n",
            "\u001b[0;32m~/.conda/envs/multi/lib/python3.7/site-packages/tensorflow_core/python/ops/variable_scope.py\u001b[0m in \u001b[0;36mget_variable\u001b[0;34m(name, shape, dtype, initializer, regularizer, trainable, collections, caching_device, partitioner, validate_shape, use_resource, custom_getter, constraint, synchronization, aggregation)\u001b[0m\n\u001b[1;32m   1498\u001b[0m       \u001b[0mconstraint\u001b[0m\u001b[0;34m=\u001b[0m\u001b[0mconstraint\u001b[0m\u001b[0;34m,\u001b[0m\u001b[0;34m\u001b[0m\u001b[0m\n\u001b[1;32m   1499\u001b[0m       \u001b[0msynchronization\u001b[0m\u001b[0;34m=\u001b[0m\u001b[0msynchronization\u001b[0m\u001b[0;34m,\u001b[0m\u001b[0;34m\u001b[0m\u001b[0m\n\u001b[0;32m-> 1500\u001b[0;31m       aggregation=aggregation)\n\u001b[0m\u001b[1;32m   1501\u001b[0m \u001b[0;34m\u001b[0m\u001b[0m\n\u001b[1;32m   1502\u001b[0m \u001b[0;34m\u001b[0m\u001b[0m\n",
            "\u001b[0;32m~/.conda/envs/multi/lib/python3.7/site-packages/tensorflow_core/python/ops/variable_scope.py\u001b[0m in \u001b[0;36mget_variable\u001b[0;34m(self, var_store, name, shape, dtype, initializer, regularizer, reuse, trainable, collections, caching_device, partitioner, validate_shape, use_resource, custom_getter, constraint, synchronization, aggregation)\u001b[0m\n\u001b[1;32m   1241\u001b[0m           \u001b[0mconstraint\u001b[0m\u001b[0;34m=\u001b[0m\u001b[0mconstraint\u001b[0m\u001b[0;34m,\u001b[0m\u001b[0;34m\u001b[0m\u001b[0m\n\u001b[1;32m   1242\u001b[0m           \u001b[0msynchronization\u001b[0m\u001b[0;34m=\u001b[0m\u001b[0msynchronization\u001b[0m\u001b[0;34m,\u001b[0m\u001b[0;34m\u001b[0m\u001b[0m\n\u001b[0;32m-> 1243\u001b[0;31m           aggregation=aggregation)\n\u001b[0m\u001b[1;32m   1244\u001b[0m \u001b[0;34m\u001b[0m\u001b[0m\n\u001b[1;32m   1245\u001b[0m   def _get_partitioned_variable(self,\n",
            "\u001b[0;32m~/.conda/envs/multi/lib/python3.7/site-packages/tensorflow_core/python/ops/variable_scope.py\u001b[0m in \u001b[0;36mget_variable\u001b[0;34m(self, name, shape, dtype, initializer, regularizer, reuse, trainable, collections, caching_device, partitioner, validate_shape, use_resource, custom_getter, constraint, synchronization, aggregation)\u001b[0m\n\u001b[1;32m    565\u001b[0m           \u001b[0mconstraint\u001b[0m\u001b[0;34m=\u001b[0m\u001b[0mconstraint\u001b[0m\u001b[0;34m,\u001b[0m\u001b[0;34m\u001b[0m\u001b[0m\n\u001b[1;32m    566\u001b[0m           \u001b[0msynchronization\u001b[0m\u001b[0;34m=\u001b[0m\u001b[0msynchronization\u001b[0m\u001b[0;34m,\u001b[0m\u001b[0;34m\u001b[0m\u001b[0m\n\u001b[0;32m--> 567\u001b[0;31m           aggregation=aggregation)\n\u001b[0m\u001b[1;32m    568\u001b[0m \u001b[0;34m\u001b[0m\u001b[0m\n\u001b[1;32m    569\u001b[0m   def _get_partitioned_variable(self,\n",
            "\u001b[0;32m~/.conda/envs/multi/lib/python3.7/site-packages/tensorflow_core/python/ops/variable_scope.py\u001b[0m in \u001b[0;36m_true_getter\u001b[0;34m(name, shape, dtype, initializer, regularizer, reuse, trainable, collections, caching_device, partitioner, validate_shape, use_resource, constraint, synchronization, aggregation)\u001b[0m\n\u001b[1;32m    517\u001b[0m           \u001b[0mconstraint\u001b[0m\u001b[0;34m=\u001b[0m\u001b[0mconstraint\u001b[0m\u001b[0;34m,\u001b[0m\u001b[0;34m\u001b[0m\u001b[0m\n\u001b[1;32m    518\u001b[0m           \u001b[0msynchronization\u001b[0m\u001b[0;34m=\u001b[0m\u001b[0msynchronization\u001b[0m\u001b[0;34m,\u001b[0m\u001b[0;34m\u001b[0m\u001b[0m\n\u001b[0;32m--> 519\u001b[0;31m           aggregation=aggregation)\n\u001b[0m\u001b[1;32m    520\u001b[0m \u001b[0;34m\u001b[0m\u001b[0m\n\u001b[1;32m    521\u001b[0m     synchronization, aggregation, trainable = (\n",
            "\u001b[0;32m~/.conda/envs/multi/lib/python3.7/site-packages/tensorflow_core/python/ops/variable_scope.py\u001b[0m in \u001b[0;36m_get_single_variable\u001b[0;34m(self, name, shape, dtype, initializer, regularizer, partition_info, reuse, trainable, collections, caching_device, validate_shape, use_resource, constraint, synchronization, aggregation)\u001b[0m\n\u001b[1;32m    866\u001b[0m         \u001b[0mtb\u001b[0m \u001b[0;34m=\u001b[0m \u001b[0;34m[\u001b[0m\u001b[0mx\u001b[0m \u001b[0;32mfor\u001b[0m \u001b[0mx\u001b[0m \u001b[0;32min\u001b[0m \u001b[0mtb\u001b[0m \u001b[0;32mif\u001b[0m \u001b[0;34m\"tensorflow/python\"\u001b[0m \u001b[0;32mnot\u001b[0m \u001b[0;32min\u001b[0m \u001b[0mx\u001b[0m\u001b[0;34m[\u001b[0m\u001b[0;36m0\u001b[0m\u001b[0;34m]\u001b[0m\u001b[0;34m]\u001b[0m\u001b[0;34m[\u001b[0m\u001b[0;34m:\u001b[0m\u001b[0;36m5\u001b[0m\u001b[0;34m]\u001b[0m\u001b[0;34m\u001b[0m\u001b[0m\n\u001b[1;32m    867\u001b[0m         raise ValueError(\"%s Originally defined at:\\n\\n%s\" %\n\u001b[0;32m--> 868\u001b[0;31m                          (err_msg, \"\".join(traceback.format_list(tb))))\n\u001b[0m\u001b[1;32m    869\u001b[0m       \u001b[0mfound_var\u001b[0m \u001b[0;34m=\u001b[0m \u001b[0mself\u001b[0m\u001b[0;34m.\u001b[0m\u001b[0m_vars\u001b[0m\u001b[0;34m[\u001b[0m\u001b[0mname\u001b[0m\u001b[0;34m]\u001b[0m\u001b[0;34m\u001b[0m\u001b[0m\n\u001b[1;32m    870\u001b[0m       \u001b[0;32mif\u001b[0m \u001b[0;32mnot\u001b[0m \u001b[0mshape\u001b[0m\u001b[0;34m.\u001b[0m\u001b[0mis_compatible_with\u001b[0m\u001b[0;34m(\u001b[0m\u001b[0mfound_var\u001b[0m\u001b[0;34m.\u001b[0m\u001b[0mget_shape\u001b[0m\u001b[0;34m(\u001b[0m\u001b[0;34m)\u001b[0m\u001b[0;34m)\u001b[0m\u001b[0;34m:\u001b[0m\u001b[0;34m\u001b[0m\u001b[0m\n",
            "\u001b[0;31mValueError\u001b[0m: Variable a already exists, disallowed. Did you mean to set reuse=True or reuse=tf.AUTO_REUSE in VarScope? Originally defined at:\n\n  File \"/home/ug2019/eee/19085089/.conda/envs/multi/lib/python3.7/site-packages/tensorflow_core/python/framework/ops.py\", line 1748, in __init__\n    self._traceback = tf_stack.extract_stack()\n  File \"/home/ug2019/eee/19085089/.conda/envs/multi/lib/python3.7/site-packages/tensorflow_core/python/framework/ops.py\", line 3426, in _create_op_internal\n    op_def=op_def)\n  File \"/home/ug2019/eee/19085089/.conda/envs/multi/lib/python3.7/site-packages/tensorflow_core/python/framework/ops.py\", line 3357, in create_op\n    attrs, op_def, compute_device)\n  File \"/home/ug2019/eee/19085089/.conda/envs/multi/lib/python3.7/site-packages/tensorflow_core/python/util/deprecation.py\", line 507, in new_func\n    return func(*args, **kwargs)\n  File \"/home/ug2019/eee/19085089/.conda/envs/multi/lib/python3.7/site-packages/tensorflow_core/python/framework/op_def_library.py\", line 794, in _apply_op_helper\n    op_def=op_def)\n"
          ]
        }
      ]
    },
    {
      "cell_type": "code",
      "metadata": {
        "id": "498e9a30-bc17-4df2-a626-c5b35f73a16f"
      },
      "source": [
        "sol.q3_check(c)"
      ],
      "id": "498e9a30-bc17-4df2-a626-c5b35f73a16f",
      "execution_count": null,
      "outputs": []
    },
    {
      "cell_type": "markdown",
      "metadata": {
        "id": "98483dbb-9c12-4c5c-8af1-e0449484f702"
      },
      "source": [
        "\n",
        "\n",
        "---\n",
        "\n",
        "# <font color = \"red\">PANDARALLEL</font>\n",
        "In this part we practice with the pandarallel library that allows parallel processing of DataFrames. \n",
        "\n",
        "#### Note: pandarallel can speed up computation using the physical cores present, hyperthreading does not increase speed."
      ],
      "id": "98483dbb-9c12-4c5c-8af1-e0449484f702"
    },
    {
      "cell_type": "markdown",
      "metadata": {
        "id": "e147c359-188a-47ca-8ca9-ce4712075566"
      },
      "source": [
        "## Setup\n",
        "Run this code before attempting the excerise"
      ],
      "id": "e147c359-188a-47ca-8ca9-ce4712075566"
    },
    {
      "cell_type": "code",
      "metadata": {
        "id": "2513006e-92ad-4296-a2c6-dc706ce46051",
        "outputId": "5166b481-25a7-4deb-8963-a091980eca55"
      },
      "source": [
        "import numpy as np\n",
        "import pandas as pd\n",
        "from tqdm.auto import tqdm\n",
        "import time\n",
        "\n",
        "tqdm.pandas()\n",
        "size = int(5e6)\n",
        "\n",
        "# Synthetic dataset of random points\n",
        "df = pd.DataFrame({\n",
        "    'XCoordinate': np.random.randn(size),\n",
        "    'YCoordinate': np.random.randn(size),\n",
        "    'Color': np.random.choice(['Red','Blue','Green'],size)\n",
        "})\n",
        "# Preview of dataset\n",
        "df.head()"
      ],
      "id": "2513006e-92ad-4296-a2c6-dc706ce46051",
      "execution_count": null,
      "outputs": [
        {
          "data": {
            "text/html": [
              "<div>\n",
              "<style scoped>\n",
              "    .dataframe tbody tr th:only-of-type {\n",
              "        vertical-align: middle;\n",
              "    }\n",
              "\n",
              "    .dataframe tbody tr th {\n",
              "        vertical-align: top;\n",
              "    }\n",
              "\n",
              "    .dataframe thead th {\n",
              "        text-align: right;\n",
              "    }\n",
              "</style>\n",
              "<table border=\"1\" class=\"dataframe\">\n",
              "  <thead>\n",
              "    <tr style=\"text-align: right;\">\n",
              "      <th></th>\n",
              "      <th>XCoordinate</th>\n",
              "      <th>YCoordinate</th>\n",
              "      <th>Color</th>\n",
              "    </tr>\n",
              "  </thead>\n",
              "  <tbody>\n",
              "    <tr>\n",
              "      <th>0</th>\n",
              "      <td>0.077263</td>\n",
              "      <td>0.999834</td>\n",
              "      <td>Blue</td>\n",
              "    </tr>\n",
              "    <tr>\n",
              "      <th>1</th>\n",
              "      <td>1.090029</td>\n",
              "      <td>-0.270834</td>\n",
              "      <td>Green</td>\n",
              "    </tr>\n",
              "    <tr>\n",
              "      <th>2</th>\n",
              "      <td>0.360018</td>\n",
              "      <td>-0.180318</td>\n",
              "      <td>Blue</td>\n",
              "    </tr>\n",
              "    <tr>\n",
              "      <th>3</th>\n",
              "      <td>-1.304695</td>\n",
              "      <td>0.978056</td>\n",
              "      <td>Blue</td>\n",
              "    </tr>\n",
              "    <tr>\n",
              "      <th>4</th>\n",
              "      <td>-0.706928</td>\n",
              "      <td>1.847666</td>\n",
              "      <td>Blue</td>\n",
              "    </tr>\n",
              "  </tbody>\n",
              "</table>\n",
              "</div>"
            ],
            "text/plain": [
              "   XCoordinate  YCoordinate  Color\n",
              "0     0.077263     0.999834   Blue\n",
              "1     1.090029    -0.270834  Green\n",
              "2     0.360018    -0.180318   Blue\n",
              "3    -1.304695     0.978056   Blue\n",
              "4    -0.706928     1.847666   Blue"
            ]
          },
          "execution_count": 9,
          "metadata": {},
          "output_type": "execute_result"
        }
      ]
    },
    {
      "cell_type": "markdown",
      "metadata": {
        "id": "8b57ba2e-d44e-451b-8668-7132c4a11c94"
      },
      "source": [
        "## Step 1\n",
        "For starters you have to first import the `pandarallel` class from the pandarallel module and run the `initialize()` method of the class. You can pass `progress_bar=True` to `initialize()` if you want to see progress bars.\n"
      ],
      "id": "8b57ba2e-d44e-451b-8668-7132c4a11c94"
    },
    {
      "cell_type": "code",
      "metadata": {
        "id": "0baac3c1-f93e-406b-91e3-c4c528706247",
        "outputId": "5e7ccbcc-931b-4901-8357-8813ed6d13d6"
      },
      "source": [
        "from pandarallel import pandarallel\n",
        "pandarallel.initialize(progress_bar=True)"
      ],
      "id": "0baac3c1-f93e-406b-91e3-c4c528706247",
      "execution_count": null,
      "outputs": [
        {
          "name": "stdout",
          "output_type": "stream",
          "text": [
            "INFO: Pandarallel will run on 16 workers.\n",
            "INFO: Pandarallel will use Memory file system to transfer data between the main process and workers.\n"
          ]
        }
      ]
    },
    {
      "cell_type": "code",
      "metadata": {
        "id": "870559f6-a74a-4026-b17a-eeac22697bfd",
        "outputId": "775e3e4d-744f-4c20-d718-914c6df686c6"
      },
      "source": [
        "sol.q4_check(df)"
      ],
      "id": "870559f6-a74a-4026-b17a-eeac22697bfd",
      "execution_count": null,
      "outputs": [
        {
          "name": "stdout",
          "output_type": "stream",
          "text": [
            "Correct!\n",
            "Your score is now 4\n"
          ]
        }
      ]
    },
    {
      "cell_type": "markdown",
      "metadata": {
        "id": "b40b72ce-52a4-4f84-8675-871719cde59f"
      },
      "source": [
        "## Step 2\n",
        "We have defined the function `l1_norm` here that takes a row in the `DataFrame` as argument and returns the L1 Norm of the point, i.e sum of absolute values of the coordinates. Run the cell."
      ],
      "id": "b40b72ce-52a4-4f84-8675-871719cde59f"
    },
    {
      "cell_type": "code",
      "metadata": {
        "id": "b6ce0f37-b10a-44fc-bda2-1cfdd49740ba"
      },
      "source": [
        "def l1_norm(row):\n",
        "      return row.XCoordinate + row.YCoordinate"
      ],
      "id": "b6ce0f37-b10a-44fc-bda2-1cfdd49740ba",
      "execution_count": null,
      "outputs": []
    },
    {
      "cell_type": "markdown",
      "metadata": {
        "id": "be387d1b-eae8-452c-b5e7-c297f4754c12"
      },
      "source": [
        "Next we will apply the function to each row by calling the `progress_apply()` method on the `DataFrame`. This may take a minute or two."
      ],
      "id": "be387d1b-eae8-452c-b5e7-c297f4754c12"
    },
    {
      "cell_type": "code",
      "metadata": {
        "id": "bf41df2e-a514-48ef-aadd-d1ab678da9e0",
        "outputId": "e0a704f1-5b3d-45de-bdc4-817451a60d93",
        "colab": {
          "referenced_widgets": [
            "dead2da30cea49df8836e99e392e2edc"
          ]
        }
      },
      "source": [
        "%%time\n",
        "seq_time = time.time()\n",
        "\n",
        "seq = df.progress_apply(l1_norm,axis=1)\n",
        "\n",
        "seq_time = time.time() - seq_time\n",
        "print(seq_time)\n",
        "df.head()"
      ],
      "id": "bf41df2e-a514-48ef-aadd-d1ab678da9e0",
      "execution_count": null,
      "outputs": [
        {
          "data": {
            "application/vnd.jupyter.widget-view+json": {
              "model_id": "dead2da30cea49df8836e99e392e2edc",
              "version_major": 2,
              "version_minor": 0
            },
            "text/plain": [
              "  0%|          | 0/5000000 [00:00<?, ?it/s]"
            ]
          },
          "metadata": {},
          "output_type": "display_data"
        },
        {
          "name": "stdout",
          "output_type": "stream",
          "text": [
            "172.31178379058838\n",
            "CPU times: user 2min 50s, sys: 3.31 s, total: 2min 54s\n",
            "Wall time: 2min 52s\n"
          ]
        },
        {
          "data": {
            "text/html": [
              "<div>\n",
              "<style scoped>\n",
              "    .dataframe tbody tr th:only-of-type {\n",
              "        vertical-align: middle;\n",
              "    }\n",
              "\n",
              "    .dataframe tbody tr th {\n",
              "        vertical-align: top;\n",
              "    }\n",
              "\n",
              "    .dataframe thead th {\n",
              "        text-align: right;\n",
              "    }\n",
              "</style>\n",
              "<table border=\"1\" class=\"dataframe\">\n",
              "  <thead>\n",
              "    <tr style=\"text-align: right;\">\n",
              "      <th></th>\n",
              "      <th>XCoordinate</th>\n",
              "      <th>YCoordinate</th>\n",
              "      <th>Color</th>\n",
              "    </tr>\n",
              "  </thead>\n",
              "  <tbody>\n",
              "    <tr>\n",
              "      <th>0</th>\n",
              "      <td>0.077263</td>\n",
              "      <td>0.999834</td>\n",
              "      <td>Blue</td>\n",
              "    </tr>\n",
              "    <tr>\n",
              "      <th>1</th>\n",
              "      <td>1.090029</td>\n",
              "      <td>-0.270834</td>\n",
              "      <td>Green</td>\n",
              "    </tr>\n",
              "    <tr>\n",
              "      <th>2</th>\n",
              "      <td>0.360018</td>\n",
              "      <td>-0.180318</td>\n",
              "      <td>Blue</td>\n",
              "    </tr>\n",
              "    <tr>\n",
              "      <th>3</th>\n",
              "      <td>-1.304695</td>\n",
              "      <td>0.978056</td>\n",
              "      <td>Blue</td>\n",
              "    </tr>\n",
              "    <tr>\n",
              "      <th>4</th>\n",
              "      <td>-0.706928</td>\n",
              "      <td>1.847666</td>\n",
              "      <td>Blue</td>\n",
              "    </tr>\n",
              "  </tbody>\n",
              "</table>\n",
              "</div>"
            ],
            "text/plain": [
              "   XCoordinate  YCoordinate  Color\n",
              "0     0.077263     0.999834   Blue\n",
              "1     1.090029    -0.270834  Green\n",
              "2     0.360018    -0.180318   Blue\n",
              "3    -1.304695     0.978056   Blue\n",
              "4    -0.706928     1.847666   Blue"
            ]
          },
          "execution_count": 14,
          "metadata": {},
          "output_type": "execute_result"
        }
      ]
    },
    {
      "cell_type": "markdown",
      "metadata": {
        "id": "9f7c402b-ed7d-4b26-a644-0b62bbdc9b2d"
      },
      "source": [
        "Now your task is to process each row with the same function but now \n",
        "\n",
        "using parallel processing provided with the help of `pandarallel` . You can compre the time with the previous execution."
      ],
      "id": "9f7c402b-ed7d-4b26-a644-0b62bbdc9b2d"
    },
    {
      "cell_type": "code",
      "metadata": {
        "id": "a43b6405-8ccc-4488-b699-c9f5f8a333d8",
        "outputId": "72d52def-4051-4ed5-beeb-8f7a92b853aa",
        "colab": {
          "referenced_widgets": [
            "8dd8ccb01df24ae6920b06227ff04ab1"
          ]
        }
      },
      "source": [
        "\n",
        "%%time\n",
        "par_time = time.time()\n",
        "\n",
        "par = df.parallel_apply(l1_norm,axis=1) \n",
        "\n",
        "par_time = time.time() - par_time\n",
        "print(par_time)\n",
        "par.head()"
      ],
      "id": "a43b6405-8ccc-4488-b699-c9f5f8a333d8",
      "execution_count": null,
      "outputs": [
        {
          "data": {
            "application/vnd.jupyter.widget-view+json": {
              "model_id": "8dd8ccb01df24ae6920b06227ff04ab1",
              "version_major": 2,
              "version_minor": 0
            },
            "text/plain": [
              "VBox(children=(HBox(children=(IntProgress(value=0, description='0.00%', max=312500), Label(value='0 / 312500')…"
            ]
          },
          "metadata": {},
          "output_type": "display_data"
        },
        {
          "name": "stdout",
          "output_type": "stream",
          "text": [
            "13.944808006286621\n",
            "CPU times: user 2.92 s, sys: 1.1 s, total: 4.03 s\n",
            "Wall time: 13.9 s\n"
          ]
        },
        {
          "data": {
            "text/plain": [
              "0    1.077097\n",
              "1    0.819195\n",
              "2    0.179699\n",
              "3   -0.326639\n",
              "4    1.140737\n",
              "dtype: float64"
            ]
          },
          "execution_count": 17,
          "metadata": {},
          "output_type": "execute_result"
        }
      ]
    },
    {
      "cell_type": "code",
      "metadata": {
        "id": "8c383692-d647-4500-b6fa-844e6d117b96",
        "outputId": "de22f141-890a-4547-ff8a-9199708289c8"
      },
      "source": [
        "sol.q5_check(seq,seq_time,par,par_time)"
      ],
      "id": "8c383692-d647-4500-b6fa-844e6d117b96",
      "execution_count": null,
      "outputs": [
        {
          "name": "stdout",
          "output_type": "stream",
          "text": [
            "Correct!\n",
            "Your score is now 4\n"
          ]
        }
      ]
    },
    {
      "cell_type": "markdown",
      "metadata": {
        "id": "09e0c442-ff58-4c6a-89e7-fdc95f3a48ba"
      },
      "source": [
        "Now hopefully you can appreciate the \n",
        "reduction in time offered by the parallel processing"
      ],
      "id": "09e0c442-ff58-4c6a-89e7-fdc95f3a48ba"
    },
    {
      "cell_type": "markdown",
      "metadata": {
        "id": "c16f74ba-54e8-4e88-a1c6-2c8e55bf0db5"
      },
      "source": [
        "## Step 3\n",
        "This is a bonus task for your learning. It is not necessary that you solve this, but give it a try\n",
        "\n",
        "In this step what you have to is to use what you have learned and add a column `ORD_Color` to the dataset containing the ordinal encoding of the `'Color'` column, you must use parallel processing."
      ],
      "id": "c16f74ba-54e8-4e88-a1c6-2c8e55bf0db5"
    },
    {
      "cell_type": "code",
      "metadata": {
        "id": "267005b7-4a11-43eb-86bc-54376fba4eeb"
      },
      "source": [
        "# YOUR CODE HERE"
      ],
      "id": "267005b7-4a11-43eb-86bc-54376fba4eeb",
      "execution_count": null,
      "outputs": []
    },
    {
      "cell_type": "markdown",
      "metadata": {
        "id": "d5d70c6c-4f53-4d4e-8a27-c67f64ec2de9"
      },
      "source": [
        "<font color = \"Red\"><B><h1>Mult Threading and Multi Processing</h1></B></font>"
      ],
      "id": "d5d70c6c-4f53-4d4e-8a27-c67f64ec2de9"
    },
    {
      "cell_type": "markdown",
      "metadata": {
        "id": "ffff5841-5da3-4034-9c5f-a3db3098e5b0"
      },
      "source": [
        "Before moving further, run the cell below to have an basic idea of Threading in Python.<br>\n",
        "Here, in this code we have made three separate threads - \n",
        "1. The main Thread\n",
        "2. t1 thread\n",
        "3. t2 thread\n",
        "\n",
        "t1 thread is responsible for printing 'Hello' while the t2 thread is responsible for 'Hi' and the main thread is the main thread, here in this case it is reponsible for printing 'Bye'."
      ],
      "id": "ffff5841-5da3-4034-9c5f-a3db3098e5b0"
    },
    {
      "cell_type": "code",
      "metadata": {
        "id": "ccb2829f-c923-4c34-ae68-2a0f76638309",
        "outputId": "a4dcc0bf-a82c-41e6-fffc-e7d5d8840171"
      },
      "source": [
        "## The first imports the sleep function from time module- it is used wait at the line for a given time.\n",
        "## The second line is to import the inbuilt 'Threading' module of Python.\n",
        "from time import sleep \n",
        "from threading import *\n",
        "class demo():\n",
        "\n",
        "    class Hello(Thread):\n",
        "          def run(self):  \n",
        "            for i in range(5):\n",
        "              print(\"Hello\")\n",
        "              sleep(1)  # waits for 1 milli seconds at this line.\n",
        "\n",
        "    class Hi(Thread):\n",
        "          def run(self):\n",
        "            for i in range(5):\n",
        "              print(\"Hi\")\n",
        "              sleep(1)\n",
        "\n",
        "    t1 = Hello()\n",
        "    t2 = Hi()\n",
        "\n",
        "    t1.start()   # calls the run function of t1 class (Hello class). \n",
        "    sleep(0.2)\n",
        "    t2.start()   # calls the run function of the t2 class (Hi class).\n",
        "\n",
        "    '''\n",
        "    The below lines are helpful in executing the t1 thread and t2 thread first before the \n",
        "    execution of Main Thread. To understand more clearly, just comment out the two lines \n",
        "    and then run the cell to see the difference.\n",
        "    '''\n",
        "    t1.join()\n",
        "    t2.join()\n",
        "\n",
        "    print(\"Bye\")\n",
        "\n",
        "demo()\n",
        "\n"
      ],
      "id": "ccb2829f-c923-4c34-ae68-2a0f76638309",
      "execution_count": null,
      "outputs": [
        {
          "name": "stdout",
          "output_type": "stream",
          "text": [
            "Hello\n",
            "Hi\n",
            "Hello\n",
            "Hi\n",
            "Hello\n",
            "Hi\n",
            "Hello\n",
            "Hi\n",
            "Hello\n",
            "Hi\n",
            "Bye\n"
          ]
        },
        {
          "data": {
            "text/plain": [
              "<__main__.demo at 0x7f949c42db38>"
            ]
          },
          "execution_count": 20,
          "metadata": {},
          "output_type": "execute_result"
        }
      ]
    },
    {
      "cell_type": "code",
      "metadata": {
        "id": "bead6ac9-906e-4d8d-8d31-eb982e1935ee",
        "outputId": "93c537a3-294a-431d-80df-d6ed3c68fcf6"
      },
      "source": [
        "#If you want to explore more: We have a small piece of code for your help:\n",
        "#Just uncomment it and run it in a different cell.\n",
        "\n",
        "#: Hope you remember the Process function from the slides !\n",
        "\n",
        "from multiprocessing import Process   \n",
        "\n",
        "def f(name):\n",
        "     print('hello', name)\n",
        "\n",
        "if __name__ == '__main__':\n",
        "     p = Process(target=f, args=('bob',))\n",
        "     p.start()\n",
        "     p.join()\n",
        "\n",
        "\n",
        "#Bonus Task:\n",
        "#With the help of multiprocessing module of python, try to initialise the 't1' and \n",
        "#'t2' as Process() [ as did in commented code ], and so try to improve the functionality of this code.\n",
        "#Watch this video to get more idea -\n",
        "#'https://www.youtube.com/watch?v=fKl2JW_qrso'\n",
        "import time\n",
        "import multiprocessing \n",
        "\n",
        "gm = time.time()\n",
        "t1 = multiprocessing.Process(target = f,args = ('god',))\n",
        "t2 = multiprocessing.Process(target = f,args = ('like',))\n",
        "\n",
        "t1.start()\n",
        "t2.start()\n",
        "\n",
        "t1.join()\n",
        "t2.join()\n",
        "\n",
        "gm = time.time()-gm\n",
        "print(f'Time: {gm}')\n",
        "\n",
        "\n",
        "  "
      ],
      "id": "bead6ac9-906e-4d8d-8d31-eb982e1935ee",
      "execution_count": null,
      "outputs": [
        {
          "name": "stdout",
          "output_type": "stream",
          "text": [
            "hello bob\n",
            "hello god\n",
            "hello like\n",
            "Time: 0.11906671524047852\n"
          ]
        }
      ]
    },
    {
      "cell_type": "markdown",
      "metadata": {
        "id": "11a0ac76-c71a-46bc-8068-c3169fc5c005"
      },
      "source": [
        "# In this task you have to literally do nothing !\n",
        "# You just have to tweak the range of the iteration(the for loop) to figure out the relationship between the overall time taken to perform the task and the computation complexity of the task"
      ],
      "id": "11a0ac76-c71a-46bc-8068-c3169fc5c005"
    },
    {
      "cell_type": "code",
      "metadata": {
        "id": "2fd28b30-a09b-47b1-a94d-c8585951c11d",
        "outputId": "2cc96e4c-6f63-45a1-f169-f24f80a051c4"
      },
      "source": [
        "'''\n",
        "Run the below code to get an intution of what is happenening, here.\n",
        "'''\n",
        "\n",
        "import multiprocessing\n",
        "from multiprocessing import Pool\n",
        "import time\n",
        "\n",
        "\n",
        "def square_add(x):\n",
        "      sum = 0\n",
        "      for j in range(1000):\n",
        "        sum += j*j\n",
        "      return sum\n",
        "\n",
        "if __name__ == \"__main__\":\n",
        "\n",
        "          toc = time.time()\n",
        "          p = Pool()\n",
        "          result = p.map(square_add, range(20000))\n",
        "          p.close()\n",
        "          p.join()\n",
        "          tic = time.time()\n",
        "          print(\"Pool time = \", tic-toc)\n",
        "\n",
        "          toc = time.time()\n",
        "          result = []\n",
        "\n",
        "          for i in range(20000):\n",
        "                  result.append(square_add(i))\n",
        "          tic = time.time()\n",
        "          print(\"Serial Processing time = \", tic-toc)\n"
      ],
      "id": "2fd28b30-a09b-47b1-a94d-c8585951c11d",
      "execution_count": null,
      "outputs": [
        {
          "name": "stdout",
          "output_type": "stream",
          "text": [
            "Pool time =  0.7819337844848633\n",
            "Serial Processing time =  2.5344595909118652\n"
          ]
        }
      ]
    },
    {
      "cell_type": "markdown",
      "metadata": {
        "id": "a24539ad-adc6-4783-9544-10eb883f4922"
      },
      "source": [
        "# The Task below is designed to get your hands on the type of Shared Memory among processes as discussed in the slides.<br>\n",
        "Read the INSTRUCTIONS carefully to get an idea of your task."
      ],
      "id": "a24539ad-adc6-4783-9544-10eb883f4922"
    },
    {
      "cell_type": "code",
      "metadata": {
        "id": "0e71609d-b6fb-4449-9226-791af9a68a5f",
        "outputId": "5c94b46f-beb6-41d6-bc8f-6df7dec5fe18"
      },
      "source": [
        "'''\n",
        "INSTRUCTIONS:\n",
        "1. FIRST of all COMMENT the four line of codes (as instructed).\n",
        "2. Once done that run the cell to see the output. Now, UNCOMMENT the said four lines.\n",
        "3. Now, run the cell and see the output.\n",
        "4. You might have noticed the difference in output-in one case you have blank array while you got filled array in other case.\n",
        "5. The reason behind this was - those four lines just make the memory sharing possible between the two processes.\n",
        "6. One in he main process (under the if __name__ == \"__main__: command) and the other is in the 'getSquare' function.\n",
        "7. This is called 'queue pipe Multiprocessing'.\n",
        "\n",
        "YOUR TASK:\n",
        "1. Create a function named 'getNumSquare'. In this function you will take one argument 'num'\n",
        "2. This 'num' is a shared Memory of type 'value' and is to be declared as 'double'.\n",
        "3. You just have to assign a real number to the 'num' variable inside the function and get it printed \n",
        "  in the 'if statement' (if __name_ == \"__main__\")\n",
        "4. We have added multiprocessing.active_children() for you in the bottom of code which prints number of active workers.\n",
        "5. You job is to just add 1 line of code to get the numbers of CPU in the system.(There is a inbulit function for this).\n",
        "\n",
        "BONUS TASK:\n",
        "1. Repeat the same task for a Queue type shared Memory in a new cell.\n",
        "2. You have to use queue.put()- to put the numbers in a variable named 'queue' of type Queue.\n",
        "3. Also queue.get() - to fetch the data in the queue.\n",
        "''' \n",
        "\n",
        "import multiprocessing\n",
        "\n",
        "class Task7():\n",
        "    \n",
        "    def getSquares(numbers, result):    \n",
        "          for index, num in enumerate(numbers):\n",
        "                result[index] = num*num\n",
        "          eval = result\n",
        "          return eval\n",
        " "
      ],
      "id": "0e71609d-b6fb-4449-9226-791af9a68a5f",
      "execution_count": null,
      "outputs": [
        {
          "ename": "NameError",
          "evalue": "name '_name_' is not defined",
          "output_type": "error",
          "traceback": [
            "\u001b[0;31m---------------------------------------------------------------------------\u001b[0m",
            "\u001b[0;31mNameError\u001b[0m                                 Traceback (most recent call last)",
            "\u001b[0;32m/tmp/ipykernel_17804/1607653515.py\u001b[0m in \u001b[0;36m<module>\u001b[0;34m\u001b[0m\n\u001b[1;32m     25\u001b[0m \u001b[0;32mimport\u001b[0m \u001b[0mmultiprocessing\u001b[0m\u001b[0;34m\u001b[0m\u001b[0m\n\u001b[1;32m     26\u001b[0m \u001b[0;34m\u001b[0m\u001b[0m\n\u001b[0;32m---> 27\u001b[0;31m \u001b[0;32mclass\u001b[0m \u001b[0mTask7\u001b[0m\u001b[0;34m(\u001b[0m\u001b[0;34m)\u001b[0m\u001b[0;34m:\u001b[0m\u001b[0;34m\u001b[0m\u001b[0m\n\u001b[0m\u001b[1;32m     28\u001b[0m \u001b[0;34m\u001b[0m\u001b[0m\n\u001b[1;32m     29\u001b[0m     \u001b[0;32mdef\u001b[0m \u001b[0mgetSquares\u001b[0m\u001b[0;34m(\u001b[0m\u001b[0mnumbers\u001b[0m\u001b[0;34m,\u001b[0m \u001b[0mresult\u001b[0m\u001b[0;34m)\u001b[0m\u001b[0;34m:\u001b[0m\u001b[0;34m\u001b[0m\u001b[0m\n",
            "\u001b[0;32m/tmp/ipykernel_17804/1607653515.py\u001b[0m in \u001b[0;36mTask7\u001b[0;34m()\u001b[0m\n\u001b[1;32m     36\u001b[0m          \u001b[0;32mreturn\u001b[0m \u001b[0mnum\u001b[0m\u001b[0;34m\u001b[0m\u001b[0m\n\u001b[1;32m     37\u001b[0m \u001b[0;34m\u001b[0m\u001b[0m\n\u001b[0;32m---> 38\u001b[0;31m     \u001b[0;32mif\u001b[0m \u001b[0m_name_\u001b[0m \u001b[0;34m==\u001b[0m \u001b[0;34m\"_main_\"\u001b[0m\u001b[0;34m:\u001b[0m\u001b[0;34m\u001b[0m\u001b[0m\n\u001b[0m\u001b[1;32m     39\u001b[0m           \u001b[0mnumbers\u001b[0m \u001b[0;34m=\u001b[0m \u001b[0;34m[\u001b[0m\u001b[0;36m2\u001b[0m\u001b[0;34m,\u001b[0m\u001b[0;36m3\u001b[0m\u001b[0;34m,\u001b[0m\u001b[0;36m5\u001b[0m\u001b[0;34m]\u001b[0m\u001b[0;34m\u001b[0m\u001b[0m\n\u001b[1;32m     40\u001b[0m           \u001b[0mresult\u001b[0m \u001b[0;34m=\u001b[0m \u001b[0;34m[\u001b[0m\u001b[0;34m]\u001b[0m\u001b[0;34m\u001b[0m\u001b[0m\n",
            "\u001b[0;31mNameError\u001b[0m: name '_name_' is not defined"
          ]
        }
      ]
    },
    {
      "cell_type": "code",
      "metadata": {
        "id": "921f3040-14c3-4f1a-87c9-e0bd689be06c"
      },
      "source": [
        ""
      ],
      "id": "921f3040-14c3-4f1a-87c9-e0bd689be06c",
      "execution_count": null,
      "outputs": []
    }
  ]
}